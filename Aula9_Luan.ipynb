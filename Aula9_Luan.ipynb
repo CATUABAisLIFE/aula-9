{
 "cells": [
  {
   "cell_type": "code",
   "execution_count": 1,
   "metadata": {},
   "outputs": [
    {
     "name": "stdout",
     "output_type": "stream",
     "text": [
      "[[2.e-04 2.e+00]\n",
      " [2.e+00 2.e+00]]\n",
      "[5 6] \n",
      "\n",
      "\n",
      "[[ 2.0000e-04  2.0000e+00]\n",
      " [ 0.0000e+00 -1.9998e+04]]\n",
      "solução com arredondamento:  [0.5 2.5]\n"
     ]
    }
   ],
   "source": [
    "import numpy as np\n",
    "import math\n",
    "\n",
    "\n",
    "def soluçao(a, b):\n",
    "    s = 0\n",
    "    n = len(a)\n",
    "    x = np.zeros(2)\n",
    "    for k in range(n - 1, -1, -1):\n",
    "        s = 0\n",
    "        for j in range(k + 1, n, 1):\n",
    "            s = s + a[k][j] * x[j]\n",
    "        x[k] = (b[k] - s) / a[k][k]\n",
    "    return x\n",
    "\n",
    "\n",
    "def pivotamento(A, b, n):\n",
    "    if (np.linalg.det(A) != 0):\n",
    "        for k in np.arange(0, n):\n",
    "            if (A[k][k] == 0):\n",
    "                print(\"ERRO\")\n",
    "                return\n",
    "            if (A[k + 1][k] == 0):\n",
    "                continue\n",
    "            else:\n",
    "                for i in np.arange(k + 1, n + 1):\n",
    "                    m = A[i, k] / A[k, k]\n",
    "                    A[i, k] = 0\n",
    "                    for j in np.arange(k + 1, n + 1):\n",
    "                        A[i, j] -= m * A[k, j]\n",
    "                        b[i] -= m * b[k]\n",
    "\n",
    "        return A, b\n",
    "    else:\n",
    "        print(\"ERRO\")\n",
    "        return\n",
    "\n",
    "\n",
    "A1 = np.array([[0.0002, 2], [2, 2]])\n",
    "b1 = np.array([5, 6])\n",
    "print(A1)\n",
    "print(b1, '\\n\\n')\n",
    "n = np.shape(A1)[0] - 1\n",
    "A1, b1 = pivotamento(A1, b1, n)\n",
    "print(A1)\n",
    "sol = soluçao(A1, b1)\n",
    "print(\"solução com arredondamento: \", sol.round(decimals=3))"
   ]
  }
 ],
 "metadata": {
  "kernelspec": {
   "display_name": "Python 3",
   "language": "python",
   "name": "python3"
  },
  "language_info": {
   "codemirror_mode": {
    "name": "ipython",
    "version": 3
   },
   "file_extension": ".py",
   "mimetype": "text/x-python",
   "name": "python",
   "nbconvert_exporter": "python",
   "pygments_lexer": "ipython3",
   "version": "3.6.7"
  }
 },
 "nbformat": 4,
 "nbformat_minor": 2
}
